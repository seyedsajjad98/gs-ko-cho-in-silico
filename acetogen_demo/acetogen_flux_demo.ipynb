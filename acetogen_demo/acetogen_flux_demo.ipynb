{
 "cells": [
  {
   "cell_type": "markdown",
   "id": "935d7ef7",
   "metadata": {},
   "source": [
    "# Flux Balance Analysis Demo — C. autoethanogenum GEM\n",
    "\n",
    "This notebook loads the curated iCLAU786 genome-scale model of *Clostridium autoethanogenum*,  \n",
    "runs FBA for wild-type and a knockout of phosphotransacetylase (PTA),  \n",
    "and compares the predicted growth rate and ethanol secretion.\n"
   ]
  },
  {
   "cell_type": "code",
   "execution_count": 1,
   "id": "647f0d26",
   "metadata": {},
   "outputs": [
    {
     "ename": "CobraSBMLError",
     "evalue": "Something went wrong reading the SBML model. Most likely the SBML model is not valid. Please check that your model is valid using the `cobra.io.sbml.validate_sbml_model` function or via the online validator at https://sbml.org/validator_servlet/ .\n\t`(model, errors) = validate_sbml_model(filename)`\nIf the model is valid and cannot be read please open an issue at https://github.com/opencobra/cobrapy/issues .",
     "output_type": "error",
     "traceback": [
      "\u001b[1;31m---------------------------------------------------------------------------\u001b[0m",
      "\u001b[1;31mCobraSBMLError\u001b[0m                            Traceback (most recent call last)",
      "File \u001b[1;32mf:\\gs-projects\\gs-ko-cho-in-silico\\acetogen_demo\\venv\\lib\\site-packages\\cobra\\io\\sbml.py:458\u001b[0m, in \u001b[0;36mread_sbml_model\u001b[1;34m(filename, number, f_replace, **kwargs)\u001b[0m\n\u001b[0;32m    457\u001b[0m     doc \u001b[38;5;241m=\u001b[39m _get_doc_from_filename(filename)\n\u001b[1;32m--> 458\u001b[0m     \u001b[38;5;28;01mreturn\u001b[39;00m _sbml_to_model(doc, number\u001b[38;5;241m=\u001b[39mnumber, f_replace\u001b[38;5;241m=\u001b[39mf_replace, \u001b[38;5;241m*\u001b[39m\u001b[38;5;241m*\u001b[39mkwargs)\n\u001b[0;32m    459\u001b[0m \u001b[38;5;28;01mexcept\u001b[39;00m \u001b[38;5;167;01mIOError\u001b[39;00m \u001b[38;5;28;01mas\u001b[39;00m e:\n",
      "File \u001b[1;32mf:\\gs-projects\\gs-ko-cho-in-silico\\acetogen_demo\\venv\\lib\\site-packages\\cobra\\io\\sbml.py:563\u001b[0m, in \u001b[0;36m_sbml_to_model\u001b[1;34m(doc, number, f_replace, set_missing_bounds, **kwargs)\u001b[0m\n\u001b[0;32m    562\u001b[0m \u001b[38;5;28;01mif\u001b[39;00m model \u001b[38;5;129;01mis\u001b[39;00m \u001b[38;5;28;01mNone\u001b[39;00m:\n\u001b[1;32m--> 563\u001b[0m     \u001b[38;5;28;01mraise\u001b[39;00m CobraSBMLError(\u001b[38;5;124m\"\u001b[39m\u001b[38;5;124mNo SBML model detected in file.\u001b[39m\u001b[38;5;124m\"\u001b[39m)\n\u001b[0;32m    564\u001b[0m model_fbc: \u001b[38;5;124m\"\u001b[39m\u001b[38;5;124mlibsbml.FbcModelPlugin\u001b[39m\u001b[38;5;124m\"\u001b[39m \u001b[38;5;241m=\u001b[39m model\u001b[38;5;241m.\u001b[39mgetPlugin(\u001b[38;5;124m\"\u001b[39m\u001b[38;5;124mfbc\u001b[39m\u001b[38;5;124m\"\u001b[39m)\n",
      "\u001b[1;31mCobraSBMLError\u001b[0m: No SBML model detected in file.",
      "\nThe above exception was the direct cause of the following exception:\n",
      "\u001b[1;31mCobraSBMLError\u001b[0m                            Traceback (most recent call last)",
      "Cell \u001b[1;32mIn[1], line 5\u001b[0m\n\u001b[0;32m      2\u001b[0m \u001b[38;5;28;01mimport\u001b[39;00m\u001b[38;5;250m \u001b[39m\u001b[38;5;21;01mmatplotlib\u001b[39;00m\u001b[38;5;21;01m.\u001b[39;00m\u001b[38;5;21;01mpyplot\u001b[39;00m\u001b[38;5;250m \u001b[39m\u001b[38;5;28;01mas\u001b[39;00m\u001b[38;5;250m \u001b[39m\u001b[38;5;21;01mplt\u001b[39;00m\n\u001b[0;32m      4\u001b[0m \u001b[38;5;66;03m# Load the SBML model\u001b[39;00m\n\u001b[1;32m----> 5\u001b[0m model \u001b[38;5;241m=\u001b[39m \u001b[43mio\u001b[49m\u001b[38;5;241;43m.\u001b[39;49m\u001b[43mread_sbml_model\u001b[49m\u001b[43m(\u001b[49m\u001b[38;5;124;43m\"\u001b[39;49m\u001b[38;5;124;43mmodels/iCLAU786.json\u001b[39;49m\u001b[38;5;124;43m\"\u001b[39;49m\u001b[43m)\u001b[49m\n",
      "File \u001b[1;32mf:\\gs-projects\\gs-ko-cho-in-silico\\acetogen_demo\\venv\\lib\\site-packages\\cobra\\io\\sbml.py:472\u001b[0m, in \u001b[0;36mread_sbml_model\u001b[1;34m(filename, number, f_replace, **kwargs)\u001b[0m\n\u001b[0;32m    462\u001b[0m \u001b[38;5;28;01mexcept\u001b[39;00m \u001b[38;5;167;01mException\u001b[39;00m \u001b[38;5;28;01mas\u001b[39;00m original_error:\n\u001b[0;32m    463\u001b[0m     cobra_error \u001b[38;5;241m=\u001b[39m CobraSBMLError(\n\u001b[0;32m    464\u001b[0m         \u001b[38;5;124m\"\u001b[39m\u001b[38;5;124mSomething went wrong reading the SBML model. Most likely the SBML\u001b[39m\u001b[38;5;124m\"\u001b[39m\n\u001b[0;32m    465\u001b[0m         \u001b[38;5;124m\"\u001b[39m\u001b[38;5;124m model is not valid. Please check that your model is valid using \u001b[39m\u001b[38;5;124m\"\u001b[39m\n\u001b[1;32m   (...)\u001b[0m\n\u001b[0;32m    470\u001b[0m         \u001b[38;5;124m\"\u001b[39m\u001b[38;5;124mat https://github.com/opencobra/cobrapy/issues .\u001b[39m\u001b[38;5;124m\"\u001b[39m\n\u001b[0;32m    471\u001b[0m     )\n\u001b[1;32m--> 472\u001b[0m     \u001b[38;5;28;01mraise\u001b[39;00m cobra_error \u001b[38;5;28;01mfrom\u001b[39;00m\u001b[38;5;250m \u001b[39m\u001b[38;5;21;01moriginal_error\u001b[39;00m\n",
      "\u001b[1;31mCobraSBMLError\u001b[0m: Something went wrong reading the SBML model. Most likely the SBML model is not valid. Please check that your model is valid using the `cobra.io.sbml.validate_sbml_model` function or via the online validator at https://sbml.org/validator_servlet/ .\n\t`(model, errors) = validate_sbml_model(filename)`\nIf the model is valid and cannot be read please open an issue at https://github.com/opencobra/cobrapy/issues ."
     ]
    }
   ],
   "source": [
    "from cobra import io\n",
    "import matplotlib.pyplot as plt\n",
    "\n",
    "# Load the SBML model\n",
    "model = io.read_sbml_model(\"models/iCLAU786.json\")\n"
   ]
  },
  {
   "cell_type": "code",
   "execution_count": 2,
   "id": "2ded7d1e",
   "metadata": {},
   "outputs": [
    {
     "ename": "NameError",
     "evalue": "name 'model' is not defined",
     "output_type": "error",
     "traceback": [
      "\u001b[1;31m---------------------------------------------------------------------------\u001b[0m",
      "\u001b[1;31mNameError\u001b[0m                                 Traceback (most recent call last)",
      "Cell \u001b[1;32mIn[2], line 2\u001b[0m\n\u001b[0;32m      1\u001b[0m \u001b[38;5;66;03m# Set CO uptake to -10 mmol/gDW/h (as per literature)\u001b[39;00m\n\u001b[1;32m----> 2\u001b[0m co_ex \u001b[38;5;241m=\u001b[39m \u001b[43mmodel\u001b[49m\u001b[38;5;241m.\u001b[39mreactions\u001b[38;5;241m.\u001b[39mget_by_id(\u001b[38;5;124m\"\u001b[39m\u001b[38;5;124mEX_co_e\u001b[39m\u001b[38;5;124m\"\u001b[39m)\n\u001b[0;32m      3\u001b[0m co_ex\u001b[38;5;241m.\u001b[39mbounds \u001b[38;5;241m=\u001b[39m (\u001b[38;5;241m-\u001b[39m\u001b[38;5;241m10\u001b[39m, \u001b[38;5;241m-\u001b[39m\u001b[38;5;241m10\u001b[39m)\n",
      "\u001b[1;31mNameError\u001b[0m: name 'model' is not defined"
     ]
    }
   ],
   "source": [
    "# Set CO uptake to -10 mmol/gDW/h (as per literature)\n",
    "co_ex = model.reactions.get_by_id(\"EX_co_e\")\n",
    "co_ex.bounds = (-10, -10)\n"
   ]
  },
  {
   "cell_type": "code",
   "execution_count": null,
   "id": "1b83e04b",
   "metadata": {},
   "outputs": [],
   "source": [
    "# Run FBA for wild-type\n",
    "wt_solution = model.optimize()\n",
    "print(\"WT Growth Rate:\", round(wt_solution.objective_value, 4))\n",
    "print(\"WT Ethanol Secretion:\", round(wt_solution.fluxes.get(\"EX_etoh_e\", 0), 4))\n"
   ]
  },
  {
   "cell_type": "code",
   "execution_count": null,
   "id": "61d57d27",
   "metadata": {},
   "outputs": [],
   "source": [
    "# Knock out PTA and re-run FBA\n",
    "with model:\n",
    "    model.reactions.get_by_id(\"PTA\").knock_out()\n",
    "    ko_solution = model.optimize()\n",
    "    print(\"ΔPTA Growth Rate:\", round(ko_solution.objective_value, 4))\n",
    "    print(\"ΔPTA Ethanol Secretion:\", round(ko_solution.fluxes.get(\"EX_etoh_e\", 0), 4))\n"
   ]
  },
  {
   "cell_type": "code",
   "execution_count": null,
   "id": "a6dc93c7",
   "metadata": {},
   "outputs": [],
   "source": [
    "# Plot results\n",
    "labels = [\"WT\", \"ΔPTA\"]\n",
    "growth = [wt_solution.objective_value, ko_solution.objective_value]\n",
    "ethanol = [wt_solution.fluxes.get(\"EX_etoh_e\", 0), ko_solution.fluxes.get(\"EX_etoh_e\", 0)]\n",
    "\n",
    "plt.bar(labels, growth, color='skyblue')\n",
    "plt.ylabel(\"Growth Rate (1/h)\")\n",
    "plt.title(\"Growth Rate Comparison\")\n",
    "plt.show()\n",
    "\n",
    "plt.bar(labels, ethanol, color='orange')\n",
    "plt.ylabel(\"Ethanol Secretion Flux\")\n",
    "plt.title(\"Ethanol Secretion Comparison\")\n",
    "plt.show()\n"
   ]
  }
 ],
 "metadata": {
  "kernelspec": {
   "display_name": "venv",
   "language": "python",
   "name": "python3"
  },
  "language_info": {
   "codemirror_mode": {
    "name": "ipython",
    "version": 3
   },
   "file_extension": ".py",
   "mimetype": "text/x-python",
   "name": "python",
   "nbconvert_exporter": "python",
   "pygments_lexer": "ipython3",
   "version": "3.9.6"
  }
 },
 "nbformat": 4,
 "nbformat_minor": 5
}
