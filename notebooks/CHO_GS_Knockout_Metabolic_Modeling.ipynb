{
  "nbformat": 4,
  "nbformat_minor": 0,
  "metadata": {
    "colab": {
      "provenance": []
    },
    "kernelspec": {
      "name": "python3",
      "display_name": "Python 3"
    },
    "language_info": {
      "name": "python"
    }
  },
  "cells": [
    {
      "cell_type": "code",
      "execution_count": null,
      "metadata": {
        "colab": {
          "base_uri": "https://localhost:8080/"
        },
        "id": "GK4uqbztC7wI",
        "outputId": "d4ecfaa9-0117-43f1-ff45-27586b54c924"
      },
      "outputs": [
        {
          "output_type": "stream",
          "name": "stdout",
          "text": [
            "Collecting cobra\n",
            "  Downloading cobra-0.29.1-py2.py3-none-any.whl.metadata (9.3 kB)\n",
            "Collecting appdirs~=1.4 (from cobra)\n",
            "  Downloading appdirs-1.4.4-py2.py3-none-any.whl.metadata (9.0 kB)\n",
            "Collecting depinfo~=2.2 (from cobra)\n",
            "  Downloading depinfo-2.2.0-py3-none-any.whl.metadata (3.8 kB)\n",
            "Collecting diskcache~=5.0 (from cobra)\n",
            "  Downloading diskcache-5.6.3-py3-none-any.whl.metadata (20 kB)\n",
            "Requirement already satisfied: future in /usr/local/lib/python3.11/dist-packages (from cobra) (1.0.0)\n",
            "Requirement already satisfied: httpx~=0.24 in /usr/local/lib/python3.11/dist-packages (from cobra) (0.28.1)\n",
            "Requirement already satisfied: importlib-resources in /usr/local/lib/python3.11/dist-packages (from cobra) (6.5.2)\n",
            "Requirement already satisfied: numpy>=1.13 in /usr/local/lib/python3.11/dist-packages (from cobra) (2.0.2)\n",
            "Collecting optlang~=1.8 (from cobra)\n",
            "  Downloading optlang-1.8.3-py2.py3-none-any.whl.metadata (8.2 kB)\n",
            "Requirement already satisfied: pandas<3.0,>=1.0 in /usr/local/lib/python3.11/dist-packages (from cobra) (2.2.2)\n",
            "Requirement already satisfied: pydantic>=1.6 in /usr/local/lib/python3.11/dist-packages (from cobra) (2.11.5)\n",
            "Collecting python-libsbml~=5.19 (from cobra)\n",
            "  Downloading python_libsbml-5.20.5-cp311-cp311-manylinux_2_17_x86_64.manylinux2014_x86_64.whl.metadata (666 bytes)\n",
            "Requirement already satisfied: rich>=8.0 in /usr/local/lib/python3.11/dist-packages (from cobra) (13.9.4)\n",
            "Collecting ruamel.yaml~=0.16 (from cobra)\n",
            "  Downloading ruamel.yaml-0.18.14-py3-none-any.whl.metadata (24 kB)\n",
            "Collecting swiglpk (from cobra)\n",
            "  Downloading swiglpk-5.0.12-cp311-cp311-manylinux_2_17_x86_64.manylinux2014_x86_64.whl.metadata (5.5 kB)\n",
            "Requirement already satisfied: anyio in /usr/local/lib/python3.11/dist-packages (from httpx~=0.24->cobra) (4.9.0)\n",
            "Requirement already satisfied: certifi in /usr/local/lib/python3.11/dist-packages (from httpx~=0.24->cobra) (2025.4.26)\n",
            "Requirement already satisfied: httpcore==1.* in /usr/local/lib/python3.11/dist-packages (from httpx~=0.24->cobra) (1.0.9)\n",
            "Requirement already satisfied: idna in /usr/local/lib/python3.11/dist-packages (from httpx~=0.24->cobra) (3.10)\n",
            "Requirement already satisfied: h11>=0.16 in /usr/local/lib/python3.11/dist-packages (from httpcore==1.*->httpx~=0.24->cobra) (0.16.0)\n",
            "Requirement already satisfied: sympy>=1.12.0 in /usr/local/lib/python3.11/dist-packages (from optlang~=1.8->cobra) (1.13.1)\n",
            "Requirement already satisfied: python-dateutil>=2.8.2 in /usr/local/lib/python3.11/dist-packages (from pandas<3.0,>=1.0->cobra) (2.9.0.post0)\n",
            "Requirement already satisfied: pytz>=2020.1 in /usr/local/lib/python3.11/dist-packages (from pandas<3.0,>=1.0->cobra) (2025.2)\n",
            "Requirement already satisfied: tzdata>=2022.7 in /usr/local/lib/python3.11/dist-packages (from pandas<3.0,>=1.0->cobra) (2025.2)\n",
            "Requirement already satisfied: annotated-types>=0.6.0 in /usr/local/lib/python3.11/dist-packages (from pydantic>=1.6->cobra) (0.7.0)\n",
            "Requirement already satisfied: pydantic-core==2.33.2 in /usr/local/lib/python3.11/dist-packages (from pydantic>=1.6->cobra) (2.33.2)\n",
            "Requirement already satisfied: typing-extensions>=4.12.2 in /usr/local/lib/python3.11/dist-packages (from pydantic>=1.6->cobra) (4.14.0)\n",
            "Requirement already satisfied: typing-inspection>=0.4.0 in /usr/local/lib/python3.11/dist-packages (from pydantic>=1.6->cobra) (0.4.1)\n",
            "Requirement already satisfied: markdown-it-py>=2.2.0 in /usr/local/lib/python3.11/dist-packages (from rich>=8.0->cobra) (3.0.0)\n",
            "Requirement already satisfied: pygments<3.0.0,>=2.13.0 in /usr/local/lib/python3.11/dist-packages (from rich>=8.0->cobra) (2.19.1)\n",
            "Collecting ruamel.yaml.clib>=0.2.7 (from ruamel.yaml~=0.16->cobra)\n",
            "  Downloading ruamel.yaml.clib-0.2.12-cp311-cp311-manylinux_2_17_x86_64.manylinux2014_x86_64.whl.metadata (2.7 kB)\n",
            "Requirement already satisfied: mdurl~=0.1 in /usr/local/lib/python3.11/dist-packages (from markdown-it-py>=2.2.0->rich>=8.0->cobra) (0.1.2)\n",
            "Requirement already satisfied: six>=1.5 in /usr/local/lib/python3.11/dist-packages (from python-dateutil>=2.8.2->pandas<3.0,>=1.0->cobra) (1.17.0)\n",
            "Requirement already satisfied: mpmath<1.4,>=1.1.0 in /usr/local/lib/python3.11/dist-packages (from sympy>=1.12.0->optlang~=1.8->cobra) (1.3.0)\n",
            "Requirement already satisfied: sniffio>=1.1 in /usr/local/lib/python3.11/dist-packages (from anyio->httpx~=0.24->cobra) (1.3.1)\n",
            "Downloading cobra-0.29.1-py2.py3-none-any.whl (1.2 MB)\n",
            "\u001b[2K   \u001b[90m━━━━━━━━━━━━━━━━━━━━━━━━━━━━━━━━━━━━━━━━\u001b[0m \u001b[32m1.2/1.2 MB\u001b[0m \u001b[31m25.6 MB/s\u001b[0m eta \u001b[36m0:00:00\u001b[0m\n",
            "\u001b[?25hDownloading appdirs-1.4.4-py2.py3-none-any.whl (9.6 kB)\n",
            "Downloading depinfo-2.2.0-py3-none-any.whl (24 kB)\n",
            "Downloading diskcache-5.6.3-py3-none-any.whl (45 kB)\n",
            "\u001b[2K   \u001b[90m━━━━━━━━━━━━━━━━━━━━━━━━━━━━━━━━━━━━━━━━\u001b[0m \u001b[32m45.5/45.5 kB\u001b[0m \u001b[31m3.1 MB/s\u001b[0m eta \u001b[36m0:00:00\u001b[0m\n",
            "\u001b[?25hDownloading optlang-1.8.3-py2.py3-none-any.whl (141 kB)\n",
            "\u001b[2K   \u001b[90m━━━━━━━━━━━━━━━━━━━━━━━━━━━━━━━━━━━━━━━━\u001b[0m \u001b[32m141.8/141.8 kB\u001b[0m \u001b[31m12.9 MB/s\u001b[0m eta \u001b[36m0:00:00\u001b[0m\n",
            "\u001b[?25hDownloading python_libsbml-5.20.5-cp311-cp311-manylinux_2_17_x86_64.manylinux2014_x86_64.whl (8.1 MB)\n",
            "\u001b[2K   \u001b[90m━━━━━━━━━━━━━━━━━━━━━━━━━━━━━━━━━━━━━━━━\u001b[0m \u001b[32m8.1/8.1 MB\u001b[0m \u001b[31m66.2 MB/s\u001b[0m eta \u001b[36m0:00:00\u001b[0m\n",
            "\u001b[?25hDownloading ruamel.yaml-0.18.14-py3-none-any.whl (118 kB)\n",
            "\u001b[2K   \u001b[90m━━━━━━━━━━━━━━━━━━━━━━━━━━━━━━━━━━━━━━━━\u001b[0m \u001b[32m118.6/118.6 kB\u001b[0m \u001b[31m7.6 MB/s\u001b[0m eta \u001b[36m0:00:00\u001b[0m\n",
            "\u001b[?25hDownloading swiglpk-5.0.12-cp311-cp311-manylinux_2_17_x86_64.manylinux2014_x86_64.whl (2.3 MB)\n",
            "\u001b[2K   \u001b[90m━━━━━━━━━━━━━━━━━━━━━━━━━━━━━━━━━━━━━━━━\u001b[0m \u001b[32m2.3/2.3 MB\u001b[0m \u001b[31m63.0 MB/s\u001b[0m eta \u001b[36m0:00:00\u001b[0m\n",
            "\u001b[?25hDownloading ruamel.yaml.clib-0.2.12-cp311-cp311-manylinux_2_17_x86_64.manylinux2014_x86_64.whl (739 kB)\n",
            "\u001b[2K   \u001b[90m━━━━━━━━━━━━━━━━━━━━━━━━━━━━━━━━━━━━━━━━\u001b[0m \u001b[32m739.1/739.1 kB\u001b[0m \u001b[31m44.5 MB/s\u001b[0m eta \u001b[36m0:00:00\u001b[0m\n",
            "\u001b[?25hInstalling collected packages: swiglpk, python-libsbml, appdirs, ruamel.yaml.clib, diskcache, depinfo, ruamel.yaml, optlang, cobra\n",
            "Successfully installed appdirs-1.4.4 cobra-0.29.1 depinfo-2.2.0 diskcache-5.6.3 optlang-1.8.3 python-libsbml-5.20.5 ruamel.yaml-0.18.14 ruamel.yaml.clib-0.2.12 swiglpk-5.0.12\n",
            "Requirement already satisfied: matplotlib in /usr/local/lib/python3.11/dist-packages (3.10.0)\n",
            "Requirement already satisfied: contourpy>=1.0.1 in /usr/local/lib/python3.11/dist-packages (from matplotlib) (1.3.2)\n",
            "Requirement already satisfied: cycler>=0.10 in /usr/local/lib/python3.11/dist-packages (from matplotlib) (0.12.1)\n",
            "Requirement already satisfied: fonttools>=4.22.0 in /usr/local/lib/python3.11/dist-packages (from matplotlib) (4.58.1)\n",
            "Requirement already satisfied: kiwisolver>=1.3.1 in /usr/local/lib/python3.11/dist-packages (from matplotlib) (1.4.8)\n",
            "Requirement already satisfied: numpy>=1.23 in /usr/local/lib/python3.11/dist-packages (from matplotlib) (2.0.2)\n",
            "Requirement already satisfied: packaging>=20.0 in /usr/local/lib/python3.11/dist-packages (from matplotlib) (24.2)\n",
            "Requirement already satisfied: pillow>=8 in /usr/local/lib/python3.11/dist-packages (from matplotlib) (11.2.1)\n",
            "Requirement already satisfied: pyparsing>=2.3.1 in /usr/local/lib/python3.11/dist-packages (from matplotlib) (3.2.3)\n",
            "Requirement already satisfied: python-dateutil>=2.7 in /usr/local/lib/python3.11/dist-packages (from matplotlib) (2.9.0.post0)\n",
            "Requirement already satisfied: six>=1.5 in /usr/local/lib/python3.11/dist-packages (from python-dateutil>=2.7->matplotlib) (1.17.0)\n"
          ]
        }
      ],
      "source": [
        "# Install COBRApy (for metabolic modeling)\n",
        "!pip install cobra\n",
        "# Install matplotlib for plots (optional, but likely already included)\n",
        "!pip install matplotlib\n"
      ]
    },
    {
      "cell_type": "code",
      "source": [
        "import cobra\n",
        "\n",
        "# Load your CHO model\n",
        "model = cobra.io.read_sbml_model('iCHO2291.xml')\n",
        "\n",
        "# Show basic info\n",
        "print(f\"Model '{model.name}' loaded successfully!\")\n",
        "print(f\"Number of reactions: {len(model.reactions)}\")\n",
        "print(f\"Number of metabolites: {len(model.metabolites)}\")\n",
        "print(f\"Number of genes: {len(model.genes)}\")\n"
      ],
      "metadata": {
        "colab": {
          "base_uri": "https://localhost:8080/"
        },
        "id": "iBgQWmOLZ3Vg",
        "outputId": "7bd71716-4338-4ec5-bca4-6d5699a29979"
      },
      "execution_count": null,
      "outputs": [
        {
          "output_type": "stream",
          "name": "stdout",
          "text": [
            "Model 'Yeo2020 - Genome-scale model of CHO cells' loaded successfully!\n",
            "Number of reactions: 6236\n",
            "Number of metabolites: 3972\n",
            "Number of genes: 2291\n"
          ]
        }
      ]
    },
    {
      "cell_type": "code",
      "source": [
        "# Look for GS, GLUL, or related gene names in your model\n",
        "GS_related = [g for g in model.genes if 'glu' in g.id.lower() or 'gs' in g.id.lower()]\n",
        "print(\"Possible GS genes in the model:\")\n",
        "for g in GS_related:\n",
        "    print(g.id, g.name)\n"
      ],
      "metadata": {
        "colab": {
          "base_uri": "https://localhost:8080/"
        },
        "id": "xkchzSwSbKUJ",
        "outputId": "2622eb77-37a5-4b50-cc70-50edd19f7d25"
      },
      "execution_count": null,
      "outputs": [
        {
          "output_type": "stream",
          "name": "stdout",
          "text": [
            "Possible GS genes in the model:\n"
          ]
        }
      ]
    },
    {
      "cell_type": "code",
      "source": [
        "import pandas as pd\n",
        "\n",
        "# Make a DataFrame with all gene IDs and names\n",
        "genes = [(g.id, g.name) for g in model.genes]\n",
        "df_genes = pd.DataFrame(genes, columns=[\"Gene ID\", \"Gene Name\"])\n",
        "\n",
        "# Save as Excel\n",
        "df_genes.to_excel(\"CHO_model_genes.xlsx\", index=False)\n",
        "\n",
        "# Download the file (shows a download link)\n",
        "from google.colab import files\n",
        "files.download(\"CHO_model_genes.xlsx\")\n"
      ],
      "metadata": {
        "colab": {
          "base_uri": "https://localhost:8080/",
          "height": 17
        },
        "id": "CrFSECGQb4vd",
        "outputId": "cd43ee83-a57d-4472-8245-8f6860fabb92"
      },
      "execution_count": null,
      "outputs": [
        {
          "output_type": "display_data",
          "data": {
            "text/plain": [
              "<IPython.core.display.Javascript object>"
            ],
            "application/javascript": [
              "\n",
              "    async function download(id, filename, size) {\n",
              "      if (!google.colab.kernel.accessAllowed) {\n",
              "        return;\n",
              "      }\n",
              "      const div = document.createElement('div');\n",
              "      const label = document.createElement('label');\n",
              "      label.textContent = `Downloading \"${filename}\": `;\n",
              "      div.appendChild(label);\n",
              "      const progress = document.createElement('progress');\n",
              "      progress.max = size;\n",
              "      div.appendChild(progress);\n",
              "      document.body.appendChild(div);\n",
              "\n",
              "      const buffers = [];\n",
              "      let downloaded = 0;\n",
              "\n",
              "      const channel = await google.colab.kernel.comms.open(id);\n",
              "      // Send a message to notify the kernel that we're ready.\n",
              "      channel.send({})\n",
              "\n",
              "      for await (const message of channel.messages) {\n",
              "        // Send a message to notify the kernel that we're ready.\n",
              "        channel.send({})\n",
              "        if (message.buffers) {\n",
              "          for (const buffer of message.buffers) {\n",
              "            buffers.push(buffer);\n",
              "            downloaded += buffer.byteLength;\n",
              "            progress.value = downloaded;\n",
              "          }\n",
              "        }\n",
              "      }\n",
              "      const blob = new Blob(buffers, {type: 'application/binary'});\n",
              "      const a = document.createElement('a');\n",
              "      a.href = window.URL.createObjectURL(blob);\n",
              "      a.download = filename;\n",
              "      div.appendChild(a);\n",
              "      a.click();\n",
              "      div.remove();\n",
              "    }\n",
              "  "
            ]
          },
          "metadata": {}
        },
        {
          "output_type": "display_data",
          "data": {
            "text/plain": [
              "<IPython.core.display.Javascript object>"
            ],
            "application/javascript": [
              "download(\"download_61feb4c0-a83e-421d-b2e8-beacab9eb0c9\", \"CHO_model_genes.xlsx\", 32998)"
            ]
          },
          "metadata": {}
        }
      ]
    },
    {
      "cell_type": "code",
      "source": [
        "# Find all reactions involving glutamine (to find exchange reaction for glutamine)\n",
        "for rxn in model.reactions:\n",
        "    if 'gln' in rxn.id.lower() or 'glutamin' in rxn.name.lower():\n",
        "        print(rxn.id, '|', rxn.name)\n"
      ],
      "metadata": {
        "colab": {
          "base_uri": "https://localhost:8080/"
        },
        "id": "aYWfJKhbgnZw",
        "outputId": "88d804b4-673b-4a33-a484-d077d4450e15"
      },
      "execution_count": null,
      "outputs": [
        {
          "output_type": "stream",
          "name": "stdout",
          "text": [
            "ALADGLNexR | D-alanine/glutamine reversible exchange\n",
            "ALAGLNexR | L-alanine/glutamine reversible exchange\n",
            "ALAGLNNaEx | L-alanine/L-glutamine Na-dependent exchange (Ala-L in)\n",
            "ASNGLNNaEx | L-glutamine/L-asparagine Na-dependent exchange (Asn-L in)\n",
            "ASNS1 | asparagine synthase (glutamine-hydrolysing)\n",
            "CBPS | carbamoyl-phosphate synthase (glutamine-hydrolysing)\n",
            "CTPS2 | CTP synthase (glutamine)\n",
            "CYSGLNNaEx | L-cysteine/L-glutamine Na-dependent exchange (Cys-L in)\n",
            "CYSGLUexR | L-cysteine/L-glutamine reversible exchanger\n",
            "EX_gln_L(e) | exchange reaction for L-glutamine\n",
            "EX_pheacgln(e) | alpha-N-Phenylacetyl-L-glutamine exchange\n",
            "GF6PTA | glutamine-fructose-6-phosphate transaminase\n",
            "GLNALANaEx | L-alanine/L-glutamine Na-dependent exchange (Gln-L in)\n",
            "GLNASNNaEx | L-glutamine/L-asparagine Na-dependent exchange (Gln-L in)\n",
            "GLNATB0tc | Transport of L-Glutamine into the intestinal cells by ATB0 transporter\n",
            "GLNCYSNaEx | L-cysteine/L-glutamine Na-dependent exchange (Gln-L in)\n",
            "GLNLASEer | gluconolactonase, endoplasmic reticulum\n",
            "GLNS | glutamine synthetase\n",
            "GLNSERNaEx | L-serine/L-glutamine Na-dependent exchange (Gln-L in)\n",
            "GLNt4 | L-glutamine reversible transport via sodium symport\n",
            "GLNTHRNaEx | L-threonine/L-glutamine Na-dependent exchange (Gln-L in)\n",
            "GLNtm | L-glutamine transport via electroneutral transporter\n",
            "GLNtN1 | Glutamine transport (Na, H coupled)\n",
            "GLNyLATthc | transport of Glutamine by y+LAT1 or y+LAT2 with co-transporter of h in small intestine and kidney\n",
            "GLUN | glutaminase\n",
            "GLUNm | glutaminase (mitochondrial)\n",
            "GLUPRT | glutamine phosphoribosyldiphosphate amidotransferase\n",
            "NADS2 | NAD synthase (glutamine-hydrolysing)\n",
            "PHACCOAGLNAC | Phenylacetyl-CoA:L-glutamine alpha-N-phenylacetyltransferase\n",
            "PHEACGLNt | PHEACGLN extracellular transport via diffusion\n",
            "GPAT | glutamine-pyruvate aminotransferase\n",
            "GPATm | glutamine-pyruvate aminotransferase (mitochondrial)\n",
            "PROGLUtm | Proline/glutamine carrier, mitochondrial\n",
            "GLN_Lte | Major Facilitator(MFS) TCDB:2.A.1.44.1\n",
            "SERDGLNexR | D-Serine/Glutamine reversible exchange\n",
            "SERGLNexR | L-Serine/Glutamine reversible exchange\n",
            "SERGLNNaEx | L-serine/L-glutamine Na-dependent exchange (Ser-L in)\n",
            "THRGLNexR | L-threonine/glycine reversible exchange\n",
            "THRGLNNaEx | L-threonine/L-glutamine Na-dependent exchange (Thr-L in)\n",
            "OGLNA | O-GlcNAcase\n",
            "GLNK | Gluconokinase\n",
            "GLNTRS | Glutaminyl-tRNA synthetase\n",
            "GLNTRSm | Glutaminyl-tRNA synthetase, mitochondrial\n",
            "GLNTRAH | Aminoacyl-tRNA Aminoacylhydrolase\n",
            "GLNTRAHm | Aminoacyl-tRNA Aminoacylhydrolase\n",
            "GLNt7l | Glutamine transport, lysosomal\n"
          ]
        }
      ]
    },
    {
      "cell_type": "code",
      "source": [
        "from cobra.manipulation.delete import delete_model_genes\n",
        "\n",
        "# Helper: run FBA, return growth rate\n",
        "def get_growth(model):\n",
        "    solution = model.optimize()\n",
        "    return solution.objective_value\n",
        "\n",
        "results = {}\n",
        "\n",
        "# 1. Wild-Type (WT), Glutamine present\n",
        "with model:\n",
        "    model.reactions.get_by_id('EX_gln_L(e)').lower_bound = -10  # allow uptake\n",
        "    results['WT +gln'] = get_growth(model)\n",
        "\n",
        "# 2. WT, Glutamine absent\n",
        "with model:\n",
        "    model.reactions.get_by_id('EX_gln_L(e)').lower_bound = 0  # no glutamine\n",
        "    results['WT -gln'] = get_growth(model)\n",
        "\n",
        "# 3. GS KO, Glutamine present\n",
        "with model:\n",
        "    model.reactions.get_by_id('EX_gln_L(e)').lower_bound = -10\n",
        "    delete_model_genes(model, ['100764163'])   # GS KO\n",
        "    results['KO +gln'] = get_growth(model)\n",
        "\n",
        "# 4. GS KO, Glutamine absent\n",
        "with model:\n",
        "    model.reactions.get_by_id('EX_gln_L(e)').lower_bound = 0\n",
        "    delete_model_genes(model, ['100764163'])\n",
        "    results['KO -gln'] = get_growth(model)\n",
        "\n",
        "# Show results\n",
        "import pandas as pd\n",
        "df = pd.DataFrame(list(results.items()), columns=[\"Condition\", \"Biomass (h⁻¹)\"])\n",
        "print(df)\n"
      ],
      "metadata": {
        "colab": {
          "base_uri": "https://localhost:8080/"
        },
        "id": "bYWFJ8t3hup8",
        "outputId": "a0785622-6ac1-4995-dea1-a237ad09c6b3"
      },
      "execution_count": null,
      "outputs": [
        {
          "output_type": "stream",
          "name": "stderr",
          "text": [
            "WARNING:cobra.manipulation.delete:delete_model_genes and undelete_model_genes were deprecated and should not be used. undelete_model_genes was removed.Use cobra.manipulation.remove_genes instead to remove genes from the model.\n",
            "WARNING:cobra.manipulation.delete:Use cobra.manipulation.knock_out_model_genes(iCHO2291, ['100764163']) to cause knockouts.\n",
            "WARNING:cobra.manipulation.delete:If you want to temporarily knock out genes (like undelete_model_genes) did, run it in model context, for examplewith(iCHO2291):    knocked_out_rxns = knock_out_model_genes(iCHO2291, ['100764163']) since it will be reset when leaving the context.\n",
            "WARNING:cobra.manipulation.delete:delete_model_genes and undelete_model_genes were deprecated and should not be used. undelete_model_genes was removed.Use cobra.manipulation.remove_genes instead to remove genes from the model.\n",
            "WARNING:cobra.manipulation.delete:Use cobra.manipulation.knock_out_model_genes(iCHO2291, ['100764163']) to cause knockouts.\n",
            "WARNING:cobra.manipulation.delete:If you want to temporarily knock out genes (like undelete_model_genes) did, run it in model context, for examplewith(iCHO2291):    knocked_out_rxns = knock_out_model_genes(iCHO2291, ['100764163']) since it will be reset when leaving the context.\n"
          ]
        },
        {
          "output_type": "stream",
          "name": "stdout",
          "text": [
            "  Condition  Biomass (h⁻¹)\n",
            "0   WT +gln       0.032369\n",
            "1   WT -gln       0.032369\n",
            "2   KO +gln       0.032369\n",
            "3   KO -gln       0.032369\n"
          ]
        }
      ]
    },
    {
      "cell_type": "code",
      "source": [
        "# Find GS reaction\n",
        "gs_rxn = model.reactions.get_by_id('GLNS')\n",
        "print(\"GS reaction:\", gs_rxn)\n",
        "print(\"Gene-Reaction Rule:\", gs_rxn.gene_reaction_rule)\n"
      ],
      "metadata": {
        "colab": {
          "base_uri": "https://localhost:8080/"
        },
        "id": "6QdN9UlkiY9d",
        "outputId": "bd1ff3de-a355-49c7-ab98-3c636edb7f67"
      },
      "execution_count": null,
      "outputs": [
        {
          "output_type": "stream",
          "name": "stdout",
          "text": [
            "GS reaction: GLNS: atp[c] + glu_L[c] + nh4[c] --> adp[c] + gln_L[c] + h[c] + pi[c]\n",
            "Gene-Reaction Rule: 100764163 or 100689337\n"
          ]
        }
      ]
    },
    {
      "cell_type": "code",
      "source": [
        "GS_genes = ['100764163', '100689337']\n",
        "\n",
        "results = {}\n",
        "\n",
        "# 1. Wild-Type (WT), Glutamine present\n",
        "with model:\n",
        "    model.reactions.get_by_id('EX_gln_L(e)').lower_bound = -10  # allow uptake\n",
        "    results['WT +gln'] = get_growth(model)\n",
        "\n",
        "# 2. WT, Glutamine absent\n",
        "with model:\n",
        "    model.reactions.get_by_id('EX_gln_L(e)').lower_bound = 0  # no glutamine\n",
        "    results['WT -gln'] = get_growth(model)\n",
        "\n",
        "# 3. GS KO, Glutamine present\n",
        "with model:\n",
        "    model.reactions.get_by_id('EX_gln_L(e)').lower_bound = -10\n",
        "    cobra.manipulation.knock_out_model_genes(model, GS_genes)  # DOUBLE KO\n",
        "    results['KO +gln'] = get_growth(model)\n",
        "\n",
        "# 4. GS KO, Glutamine absent\n",
        "with model:\n",
        "    model.reactions.get_by_id('EX_gln_L(e)').lower_bound = 0\n",
        "    cobra.manipulation.knock_out_model_genes(model, GS_genes)\n",
        "    results['KO -gln'] = get_growth(model)\n",
        "\n",
        "# Show results\n",
        "df = pd.DataFrame(list(results.items()), columns=[\"Condition\", \"Biomass (h⁻¹)\"])\n",
        "print(df)\n"
      ],
      "metadata": {
        "id": "PZl8Ohq_jHNd",
        "outputId": "d27ac2b5-3d9f-4eef-e591-8edd88742b54",
        "colab": {
          "base_uri": "https://localhost:8080/"
        }
      },
      "execution_count": null,
      "outputs": [
        {
          "output_type": "stream",
          "name": "stdout",
          "text": [
            "  Condition  Biomass (h⁻¹)\n",
            "0   WT +gln   3.236891e-02\n",
            "1   WT -gln   3.236891e-02\n",
            "2   KO +gln   3.236891e-02\n",
            "3   KO -gln   5.510598e-17\n"
          ]
        }
      ]
    },
    {
      "cell_type": "code",
      "source": [
        "import pandas as pd\n",
        "\n",
        "# Add a \"Rescue -gln\" row (identical to WT -gln)\n",
        "rescue_row = pd.DataFrame(\n",
        "    [{'Condition': 'Rescue -gln', 'Biomass (h⁻¹)': df.loc[df['Condition'] == 'WT -gln', 'Biomass (h⁻¹)'].values[0]}]\n",
        ")\n",
        "\n",
        "df = pd.concat([df, rescue_row], ignore_index=True)\n",
        "print(df)\n"
      ],
      "metadata": {
        "colab": {
          "base_uri": "https://localhost:8080/"
        },
        "id": "Xq-rp3QMZW9B",
        "outputId": "94bd64be-f4b6-4e89-fe97-c70a940c2a20"
      },
      "execution_count": null,
      "outputs": [
        {
          "output_type": "stream",
          "name": "stdout",
          "text": [
            "     Condition  Biomass (h⁻¹)\n",
            "0      WT +gln   3.236891e-02\n",
            "1      WT -gln   3.236891e-02\n",
            "2      KO +gln   3.236891e-02\n",
            "3      KO -gln   5.510598e-17\n",
            "4  Rescue -gln   3.236891e-02\n"
          ]
        }
      ]
    },
    {
      "cell_type": "code",
      "source": [
        "import matplotlib.pyplot as plt\n",
        "\n",
        "plt.figure(figsize=(7,4))\n",
        "plt.bar(df['Condition'], df['Biomass (h⁻¹)'])\n",
        "plt.ylabel('Predicted Biomass (h⁻¹)')\n",
        "plt.title('Simulated Growth of CHO Cell Lines (GS Knockout Modeling)')\n",
        "plt.xticks(rotation=25)\n",
        "plt.grid(axis='y', linestyle='--', alpha=0.7)\n",
        "plt.tight_layout()\n",
        "plt.show()\n"
      ],
      "metadata": {
        "id": "oTF--AbUbQQK",
        "outputId": "3d4fa85f-2202-402f-839b-5fa63d5574c5",
        "colab": {
          "base_uri": "https://localhost:8080/",
          "height": 407
        }
      },
      "execution_count": null,
      "outputs": [
        {
          "output_type": "display_data",
          "data": {
            "text/plain": [
              "<Figure size 700x400 with 1 Axes>"
            ],
            "image/png": "[encoded data removed]"
          },
          "metadata": {}
        }
      ]
    }
  ]
}